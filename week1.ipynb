{
 "cells": [
  {
   "cell_type": "code",
   "execution_count": 1,
   "id": "0e611a26-18eb-4064-8d0a-197c43a73125",
   "metadata": {},
   "outputs": [],
   "source": [
    "import pandas as pd"
   ]
  },
  {
   "cell_type": "code",
   "execution_count": 4,
   "id": "a9e7f07a-330a-4c35-82fb-121e7ae62489",
   "metadata": {},
   "outputs": [
    {
     "data": {
      "text/html": [
       "<div>\n",
       "<style scoped>\n",
       "    .dataframe tbody tr th:only-of-type {\n",
       "        vertical-align: middle;\n",
       "    }\n",
       "\n",
       "    .dataframe tbody tr th {\n",
       "        vertical-align: top;\n",
       "    }\n",
       "\n",
       "    .dataframe thead th {\n",
       "        text-align: right;\n",
       "    }\n",
       "</style>\n",
       "<table border=\"1\" class=\"dataframe\">\n",
       "  <thead>\n",
       "    <tr style=\"text-align: right;\">\n",
       "      <th></th>\n",
       "      <th>id</th>\n",
       "      <th>date</th>\n",
       "      <th>NH4</th>\n",
       "      <th>BSK5</th>\n",
       "      <th>Suspended</th>\n",
       "      <th>O2</th>\n",
       "      <th>NO3</th>\n",
       "      <th>NO2</th>\n",
       "      <th>SO4</th>\n",
       "      <th>PO4</th>\n",
       "      <th>CL</th>\n",
       "    </tr>\n",
       "  </thead>\n",
       "  <tbody>\n",
       "    <tr>\n",
       "      <th>0</th>\n",
       "      <td>1</td>\n",
       "      <td>17.02.2000</td>\n",
       "      <td>0.330</td>\n",
       "      <td>2.77</td>\n",
       "      <td>12.0</td>\n",
       "      <td>12.30</td>\n",
       "      <td>9.50</td>\n",
       "      <td>0.057</td>\n",
       "      <td>154.0</td>\n",
       "      <td>0.454</td>\n",
       "      <td>289.5</td>\n",
       "    </tr>\n",
       "    <tr>\n",
       "      <th>1</th>\n",
       "      <td>1</td>\n",
       "      <td>11.05.2000</td>\n",
       "      <td>0.044</td>\n",
       "      <td>3.00</td>\n",
       "      <td>51.6</td>\n",
       "      <td>14.61</td>\n",
       "      <td>17.75</td>\n",
       "      <td>0.034</td>\n",
       "      <td>352.0</td>\n",
       "      <td>0.090</td>\n",
       "      <td>1792.0</td>\n",
       "    </tr>\n",
       "    <tr>\n",
       "      <th>2</th>\n",
       "      <td>1</td>\n",
       "      <td>11.09.2000</td>\n",
       "      <td>0.032</td>\n",
       "      <td>2.10</td>\n",
       "      <td>24.5</td>\n",
       "      <td>9.87</td>\n",
       "      <td>13.80</td>\n",
       "      <td>0.173</td>\n",
       "      <td>416.0</td>\n",
       "      <td>0.200</td>\n",
       "      <td>2509.0</td>\n",
       "    </tr>\n",
       "    <tr>\n",
       "      <th>3</th>\n",
       "      <td>1</td>\n",
       "      <td>13.12.2000</td>\n",
       "      <td>0.170</td>\n",
       "      <td>2.23</td>\n",
       "      <td>35.6</td>\n",
       "      <td>12.40</td>\n",
       "      <td>17.13</td>\n",
       "      <td>0.099</td>\n",
       "      <td>275.2</td>\n",
       "      <td>0.377</td>\n",
       "      <td>1264.0</td>\n",
       "    </tr>\n",
       "    <tr>\n",
       "      <th>4</th>\n",
       "      <td>1</td>\n",
       "      <td>02.03.2001</td>\n",
       "      <td>0.000</td>\n",
       "      <td>3.03</td>\n",
       "      <td>48.8</td>\n",
       "      <td>14.69</td>\n",
       "      <td>10.00</td>\n",
       "      <td>0.065</td>\n",
       "      <td>281.6</td>\n",
       "      <td>0.134</td>\n",
       "      <td>1462.0</td>\n",
       "    </tr>\n",
       "  </tbody>\n",
       "</table>\n",
       "</div>"
      ],
      "text/plain": [
       "   id        date    NH4  BSK5  Suspended     O2    NO3    NO2    SO4    PO4  \\\n",
       "0   1  17.02.2000  0.330  2.77       12.0  12.30   9.50  0.057  154.0  0.454   \n",
       "1   1  11.05.2000  0.044  3.00       51.6  14.61  17.75  0.034  352.0  0.090   \n",
       "2   1  11.09.2000  0.032  2.10       24.5   9.87  13.80  0.173  416.0  0.200   \n",
       "3   1  13.12.2000  0.170  2.23       35.6  12.40  17.13  0.099  275.2  0.377   \n",
       "4   1  02.03.2001  0.000  3.03       48.8  14.69  10.00  0.065  281.6  0.134   \n",
       "\n",
       "       CL  \n",
       "0   289.5  \n",
       "1  1792.0  \n",
       "2  2509.0  \n",
       "3  1264.0  \n",
       "4  1462.0  "
      ]
     },
     "execution_count": 4,
     "metadata": {},
     "output_type": "execute_result"
    }
   ],
   "source": [
    "df=pd.read_csv(\"afa2e701598d20110228.csv\",sep=';')\n",
    "df.head()"
   ]
  },
  {
   "cell_type": "code",
   "execution_count": 5,
   "id": "7cc806ca-976d-4170-9fca-43740e81b429",
   "metadata": {},
   "outputs": [
    {
     "name": "stdout",
     "output_type": "stream",
     "text": [
      "<class 'pandas.core.frame.DataFrame'>\n",
      "RangeIndex: 2861 entries, 0 to 2860\n",
      "Data columns (total 11 columns):\n",
      " #   Column     Non-Null Count  Dtype  \n",
      "---  ------     --------------  -----  \n",
      " 0   id         2861 non-null   int64  \n",
      " 1   date       2861 non-null   object \n",
      " 2   NH4        2858 non-null   float64\n",
      " 3   BSK5       2860 non-null   float64\n",
      " 4   Suspended  2845 non-null   float64\n",
      " 5   O2         2858 non-null   float64\n",
      " 6   NO3        2860 non-null   float64\n",
      " 7   NO2        2858 non-null   float64\n",
      " 8   SO4        2812 non-null   float64\n",
      " 9   PO4        2833 non-null   float64\n",
      " 10  CL         2812 non-null   float64\n",
      "dtypes: float64(9), int64(1), object(1)\n",
      "memory usage: 246.0+ KB\n"
     ]
    }
   ],
   "source": [
    "df.info()"
   ]
  },
  {
   "cell_type": "code",
   "execution_count": 6,
   "id": "e8ff4324-521c-40a6-b25f-77a0463a5b40",
   "metadata": {},
   "outputs": [
    {
     "data": {
      "text/plain": [
       "id            0\n",
       "date          0\n",
       "NH4           3\n",
       "BSK5          1\n",
       "Suspended    16\n",
       "O2            3\n",
       "NO3           1\n",
       "NO2           3\n",
       "SO4          49\n",
       "PO4          28\n",
       "CL           49\n",
       "dtype: int64"
      ]
     },
     "execution_count": 6,
     "metadata": {},
     "output_type": "execute_result"
    }
   ],
   "source": [
    "df.isna().sum()"
   ]
  },
  {
   "cell_type": "code",
   "execution_count": 8,
   "id": "d5933c2c-33b5-4211-990d-c2703305cc7d",
   "metadata": {},
   "outputs": [
    {
     "data": {
      "text/plain": [
       "(2861, 11)"
      ]
     },
     "execution_count": 8,
     "metadata": {},
     "output_type": "execute_result"
    }
   ],
   "source": [
    "df.shape"
   ]
  },
  {
   "cell_type": "code",
   "execution_count": 10,
   "id": "dcc30c63-6a24-4cea-9cc4-8c93111a4436",
   "metadata": {},
   "outputs": [],
   "source": [
    "df.fillna(df.mean(numeric_only=True),inplace=True)"
   ]
  },
  {
   "cell_type": "code",
   "execution_count": 11,
   "id": "2310899e-fa56-4d98-9ce1-bea40a7e3d8d",
   "metadata": {},
   "outputs": [
    {
     "data": {
      "text/plain": [
       "id           0\n",
       "date         0\n",
       "NH4          0\n",
       "BSK5         0\n",
       "Suspended    0\n",
       "O2           0\n",
       "NO3          0\n",
       "NO2          0\n",
       "SO4          0\n",
       "PO4          0\n",
       "CL           0\n",
       "dtype: int64"
      ]
     },
     "execution_count": 11,
     "metadata": {},
     "output_type": "execute_result"
    }
   ],
   "source": [
    "df.isna().sum()"
   ]
  },
  {
   "cell_type": "code",
   "execution_count": 12,
   "id": "210caedb-271a-434f-bdfb-c97c5d9a9c24",
   "metadata": {},
   "outputs": [
    {
     "data": {
      "text/html": [
       "<div>\n",
       "<style scoped>\n",
       "    .dataframe tbody tr th:only-of-type {\n",
       "        vertical-align: middle;\n",
       "    }\n",
       "\n",
       "    .dataframe tbody tr th {\n",
       "        vertical-align: top;\n",
       "    }\n",
       "\n",
       "    .dataframe thead th {\n",
       "        text-align: right;\n",
       "    }\n",
       "</style>\n",
       "<table border=\"1\" class=\"dataframe\">\n",
       "  <thead>\n",
       "    <tr style=\"text-align: right;\">\n",
       "      <th></th>\n",
       "      <th>id</th>\n",
       "      <th>NH4</th>\n",
       "      <th>BSK5</th>\n",
       "      <th>Suspended</th>\n",
       "      <th>O2</th>\n",
       "      <th>NO3</th>\n",
       "      <th>NO2</th>\n",
       "      <th>SO4</th>\n",
       "      <th>PO4</th>\n",
       "      <th>CL</th>\n",
       "    </tr>\n",
       "  </thead>\n",
       "  <tbody>\n",
       "    <tr>\n",
       "      <th>count</th>\n",
       "      <td>2861.000000</td>\n",
       "      <td>2861.000000</td>\n",
       "      <td>2861.000000</td>\n",
       "      <td>2861.000000</td>\n",
       "      <td>2861.000000</td>\n",
       "      <td>2861.000000</td>\n",
       "      <td>2861.000000</td>\n",
       "      <td>2861.000000</td>\n",
       "      <td>2861.000000</td>\n",
       "      <td>2861.000000</td>\n",
       "    </tr>\n",
       "    <tr>\n",
       "      <th>mean</th>\n",
       "      <td>12.397064</td>\n",
       "      <td>0.758734</td>\n",
       "      <td>4.316182</td>\n",
       "      <td>12.931905</td>\n",
       "      <td>9.508902</td>\n",
       "      <td>4.316846</td>\n",
       "      <td>0.246128</td>\n",
       "      <td>59.362313</td>\n",
       "      <td>0.418626</td>\n",
       "      <td>93.731991</td>\n",
       "    </tr>\n",
       "    <tr>\n",
       "      <th>std</th>\n",
       "      <td>6.084226</td>\n",
       "      <td>2.484943</td>\n",
       "      <td>2.973477</td>\n",
       "      <td>16.496758</td>\n",
       "      <td>4.425937</td>\n",
       "      <td>6.879985</td>\n",
       "      <td>2.181631</td>\n",
       "      <td>95.751698</td>\n",
       "      <td>0.767541</td>\n",
       "      <td>391.118021</td>\n",
       "    </tr>\n",
       "    <tr>\n",
       "      <th>min</th>\n",
       "      <td>1.000000</td>\n",
       "      <td>0.000000</td>\n",
       "      <td>0.000000</td>\n",
       "      <td>0.000000</td>\n",
       "      <td>0.000000</td>\n",
       "      <td>0.000000</td>\n",
       "      <td>0.000000</td>\n",
       "      <td>0.000000</td>\n",
       "      <td>0.000000</td>\n",
       "      <td>0.020000</td>\n",
       "    </tr>\n",
       "    <tr>\n",
       "      <th>25%</th>\n",
       "      <td>8.000000</td>\n",
       "      <td>0.080000</td>\n",
       "      <td>2.160000</td>\n",
       "      <td>6.000000</td>\n",
       "      <td>7.100000</td>\n",
       "      <td>1.390000</td>\n",
       "      <td>0.030000</td>\n",
       "      <td>27.200000</td>\n",
       "      <td>0.130000</td>\n",
       "      <td>26.800000</td>\n",
       "    </tr>\n",
       "    <tr>\n",
       "      <th>50%</th>\n",
       "      <td>14.000000</td>\n",
       "      <td>0.220000</td>\n",
       "      <td>3.800000</td>\n",
       "      <td>10.000000</td>\n",
       "      <td>9.000000</td>\n",
       "      <td>2.800000</td>\n",
       "      <td>0.059000</td>\n",
       "      <td>38.100000</td>\n",
       "      <td>0.278000</td>\n",
       "      <td>34.100000</td>\n",
       "    </tr>\n",
       "    <tr>\n",
       "      <th>75%</th>\n",
       "      <td>16.000000</td>\n",
       "      <td>0.500000</td>\n",
       "      <td>5.800000</td>\n",
       "      <td>14.800000</td>\n",
       "      <td>11.520000</td>\n",
       "      <td>5.580000</td>\n",
       "      <td>0.129000</td>\n",
       "      <td>63.700000</td>\n",
       "      <td>0.468000</td>\n",
       "      <td>46.330000</td>\n",
       "    </tr>\n",
       "    <tr>\n",
       "      <th>max</th>\n",
       "      <td>22.000000</td>\n",
       "      <td>39.427000</td>\n",
       "      <td>50.900000</td>\n",
       "      <td>595.000000</td>\n",
       "      <td>90.000000</td>\n",
       "      <td>133.400000</td>\n",
       "      <td>109.000000</td>\n",
       "      <td>3573.400000</td>\n",
       "      <td>13.879000</td>\n",
       "      <td>5615.280000</td>\n",
       "    </tr>\n",
       "  </tbody>\n",
       "</table>\n",
       "</div>"
      ],
      "text/plain": [
       "                id          NH4         BSK5    Suspended           O2  \\\n",
       "count  2861.000000  2861.000000  2861.000000  2861.000000  2861.000000   \n",
       "mean     12.397064     0.758734     4.316182    12.931905     9.508902   \n",
       "std       6.084226     2.484943     2.973477    16.496758     4.425937   \n",
       "min       1.000000     0.000000     0.000000     0.000000     0.000000   \n",
       "25%       8.000000     0.080000     2.160000     6.000000     7.100000   \n",
       "50%      14.000000     0.220000     3.800000    10.000000     9.000000   \n",
       "75%      16.000000     0.500000     5.800000    14.800000    11.520000   \n",
       "max      22.000000    39.427000    50.900000   595.000000    90.000000   \n",
       "\n",
       "               NO3          NO2          SO4          PO4           CL  \n",
       "count  2861.000000  2861.000000  2861.000000  2861.000000  2861.000000  \n",
       "mean      4.316846     0.246128    59.362313     0.418626    93.731991  \n",
       "std       6.879985     2.181631    95.751698     0.767541   391.118021  \n",
       "min       0.000000     0.000000     0.000000     0.000000     0.020000  \n",
       "25%       1.390000     0.030000    27.200000     0.130000    26.800000  \n",
       "50%       2.800000     0.059000    38.100000     0.278000    34.100000  \n",
       "75%       5.580000     0.129000    63.700000     0.468000    46.330000  \n",
       "max     133.400000   109.000000  3573.400000    13.879000  5615.280000  "
      ]
     },
     "execution_count": 12,
     "metadata": {},
     "output_type": "execute_result"
    }
   ],
   "source": [
    "df.describe()"
   ]
  },
  {
   "cell_type": "code",
   "execution_count": 17,
   "id": "91b6a3eb-1755-46c1-82ec-7144caa86d39",
   "metadata": {},
   "outputs": [
    {
     "data": {
      "image/png": "[encoded data removed]",
      "text/plain": [
       "<Figure size 640x480 with 1 Axes>"
      ]
     },
     "metadata": {},
     "output_type": "display_data"
    }
   ],
   "source": [
    "import seaborn as sns\n",
    "columns_continuous=[\"NH4\",\"BSK5\",\"Suspended\",\"O2\",\"NO3\",\"NO2\",\"SO4\",\"PO4\",\"CL\"]\n",
    "for col in columns_continuous:\n",
    "    sns.boxplot(data=df,x=df[col])"
   ]
  },
  {
   "cell_type": "code",
   "execution_count": null,
   "id": "37ee7a01-f2ce-497d-b1c5-a12353316e71",
   "metadata": {},
   "outputs": [],
   "source": []
  }
 ],
 "metadata": {
  "kernelspec": {
   "display_name": "Python 3 (ipykernel)",
   "language": "python",
   "name": "python3"
  },
  "language_info": {
   "codemirror_mode": {
    "name": "ipython",
    "version": 3
   },
   "file_extension": ".py",
   "mimetype": "text/x-python",
   "name": "python",
   "nbconvert_exporter": "python",
   "pygments_lexer": "ipython3",
   "version": "3.12.7"
  }
 },
 "nbformat": 4,
 "nbformat_minor": 5
}
